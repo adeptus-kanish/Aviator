{
 "cells": [
  {
   "cell_type": "markdown",
   "id": "ba27e4ac-2090-48ec-a9a5-3c8c17affd42",
   "metadata": {},
   "source": [
    "## Simulation Approach\n",
    "\n",
    "- 1_000_000 rounds for statisctical significane\n",
    "- Fixed 95% RTP target\n",
    "- Dynamic house edge adjustment to maintain RTP"
   ]
  },
  {
   "cell_type": "markdown",
   "id": "a035849c-6842-492e-a798-427ad1894651",
   "metadata": {},
   "source": [
    "## Imports"
   ]
  },
  {
   "cell_type": "code",
   "execution_count": 1,
   "id": "fcb72603-e895-4f2b-ad61-5e142efb394e",
   "metadata": {},
   "outputs": [],
   "source": [
    "import json\n",
    "import random\n",
    "import pandas as pd\n",
    "import numpy as np\n",
    "from tqdm import tqdm\n",
    "import matplotlib.pyplot as plt\n",
    "from scipy.stats import percentileofscore"
   ]
  },
  {
   "cell_type": "markdown",
   "id": "1f8f2ffd-bd95-482e-9c31-f6f6ec51cecc",
   "metadata": {},
   "source": [
    "## Implementation"
   ]
  },
  {
   "cell_type": "code",
   "execution_count": 2,
   "id": "cc637de1-0d1d-457a-ad8b-cdeaaaa688cd",
   "metadata": {},
   "outputs": [],
   "source": [
    "# Import json parsheet\n",
    "with open('aviator-parsheet.json') as f:\n",
    "    parsheet = json.load(f)"
   ]
  },
  {
   "cell_type": "code",
   "execution_count": 3,
   "id": "29cad8b4-f459-4ee9-b657-04f1d610d089",
   "metadata": {},
   "outputs": [],
   "source": [
    "# game settings\n",
    "game_id = parsheet['id']\n",
    "target_rtp = parsheet['target_rtp']\n",
    "house_edge = 1 - target_rtp\n",
    "bet = parsheet['bets'][5]\n",
    "cashout = parsheet['sample_cashout']\n",
    "max_multiplier = parsheet['multipliers'][-1]"
   ]
  },
  {
   "cell_type": "code",
   "execution_count": 4,
   "id": "2a7bebdf-d48b-4907-bd86-95b96fcd562b",
   "metadata": {},
   "outputs": [],
   "source": [
    "def generate_crash_point(house_edge=0.05, max_multiplier=100):\n",
    "    \"\"\"\n",
    "    Generate Crash Point via exponential decay function\n",
    "\n",
    "    param:\n",
    "        house_edge: decimal format (house earning)\n",
    "        max_multiplier: max multiplier assigned to parsheet\n",
    "\n",
    "    return:\n",
    "        crash_point: value in between min-max multiplier\n",
    "    \"\"\"\n",
    "    U = np.random.random()\n",
    "    return min((1 - house_edge) / U, max_multiplier)"
   ]
  },
  {
   "cell_type": "code",
   "execution_count": 5,
   "id": "48dda263-49fe-458a-b3a1-b3cd46035c8a",
   "metadata": {},
   "outputs": [
    {
     "data": {
      "text/plain": [
       "2.152402346209347"
      ]
     },
     "execution_count": 5,
     "metadata": {},
     "output_type": "execute_result"
    }
   ],
   "source": [
    "# sample crash point\n",
    "crash_p = generate_crash_point()\n",
    "crash_p"
   ]
  },
  {
   "cell_type": "code",
   "execution_count": 6,
   "id": "ed3af259-a99b-44ff-bcad-bf1ea8602915",
   "metadata": {},
   "outputs": [
    {
     "name": "stdin",
     "output_type": "stream",
     "text": [
      "Enter Cashout Multiplier:  5\n"
     ]
    },
    {
     "name": "stdout",
     "output_type": "stream",
     "text": [
      "\n",
      "Crash Point: 7.7\n",
      "Bet Amount: 10\n",
      "Cashout At: 5.0\n",
      "Payout Given: 50.0\n"
     ]
    }
   ],
   "source": [
    "def single_run(bet, n_rounds=1):\n",
    "    \"\"\"\n",
    "    Simulate single run\n",
    "    \"\"\"\n",
    "    crash_point = round(generate_crash_point(),2)   # generate a crashpoint\n",
    "    cashout = float(input(\"Enter Cashout Multiplier: \"))\n",
    "    \n",
    "    if cashout <= crash_point:\n",
    "        payout = bet * cashout\n",
    "    else:\n",
    "        payout = 0\n",
    "\n",
    "    return print(f'\\nCrash Point: {crash_point}\\nBet Amount: {bet}\\nCashout At: {cashout}\\nPayout Given: {payout}')\n",
    "\n",
    "out = single_run(bet=10)\n",
    "out"
   ]
  },
  {
   "cell_type": "code",
   "execution_count": 8,
   "id": "094687cf-cb69-4850-b471-d7953e4e94a9",
   "metadata": {},
   "outputs": [
    {
     "name": "stderr",
     "output_type": "stream",
     "text": [
      "100%|█████████████████████████████████████████████████████████████████████████████████████████████████████████████████████████████████████████████████████████████████████████████████████████████████████████████████████████████| 1000000/1000000 [00:08<00:00, 114230.12it/s]\n"
     ]
    },
    {
     "name": "stdout",
     "output_type": "stream",
     "text": [
      "Final RTP: 0.9489\n"
     ]
    }
   ],
   "source": [
    "def simulation(bet, cashout, house_edge, target_rtp, n_rounds=1_000_000):\n",
    "    results = []\n",
    "    total_bet = 0.0\n",
    "    total_payout = 0.0\n",
    "\n",
    "    for _ in tqdm(range(n_rounds)):\n",
    "\n",
    "        cashout_point = np.random.choice(cashout)\n",
    "        crash_point = generate_crash_point()\n",
    "\n",
    "        if cashout_point <= crash_point:\n",
    "            payout = bet * cashout_point\n",
    "        else:\n",
    "            payout = 0.0\n",
    "\n",
    "        results.append({\n",
    "            'crash_point': round(crash_point,3),\n",
    "            'cashout': round(cashout_point, 3),\n",
    "            'payout': payout\n",
    "        })\n",
    "        total_bet += bet\n",
    "        total_payout += payout\n",
    "\n",
    "    return pd.DataFrame(results)\n",
    "\n",
    "# Run Simulation\n",
    "results = simulation(bet, cashout, house_edge=house_edge, target_rtp=target_rtp, n_rounds=1_000_000)\n",
    "print(f\"Final RTP: {results['payout'].sum() / len(results):.4f}\")"
   ]
  },
  {
   "cell_type": "code",
   "execution_count": 15,
   "id": "0ca0d1bc-e617-4b53-b4cd-2e839f76f43a",
   "metadata": {},
   "outputs": [
    {
     "name": "stdout",
     "output_type": "stream",
     "text": [
      "RTP over 1M simulation: 94.89%\n"
     ]
    }
   ],
   "source": [
    "rtp = results['payout'].sum() / len(results)\n",
    "print(f'RTP over 1M: {round(float(rtp), 4) * 100}%')"
   ]
  },
  {
   "cell_type": "markdown",
   "id": "68c974fc-1dd1-4475-8619-97549d0a5fb0",
   "metadata": {},
   "source": [
    "## Analysis"
   ]
  },
  {
   "cell_type": "code",
   "execution_count": 16,
   "id": "7ae5313d-e3af-4a28-8b62-f942d287b180",
   "metadata": {},
   "outputs": [
    {
     "data": {
      "image/png": "[encoded data removed]",
      "text/plain": [
       "<Figure size 1200x500 with 2 Axes>"
      ]
     },
     "metadata": {},
     "output_type": "display_data"
    }
   ],
   "source": [
    "# Crash point distribution\n",
    "plt.figure(figsize=(12,5))\n",
    "plt.subplot(1,2,1)\n",
    "bins = np.logspace(0, np.log10(100), 50)  # 50 bins spaced logarithmically to avoid overflow bin\n",
    "plt.hist(results['crash_point'], bins=bins)\n",
    "plt.title(\"Crash Point Distribution (<100x)\")\n",
    "\n",
    "# RTP convergence\n",
    "cumulative_rtp = results['payout'].cumsum() / (results.index + 1)\n",
    "plt.subplot(1,2,2)\n",
    "cumulative_rtp.plot(label='Actual RTP')\n",
    "plt.axhline(rtp, color='r', linestyle='--', label='Target RTP')\n",
    "plt.text(x=len(results), y=rtp, \n",
    "         s=f' Target RTP = {rtp:.2%}',\n",
    "         color='r',\n",
    "         va='center',\n",
    "         ha='left',\n",
    "         backgroundcolor='white')\n",
    "plt.grid(True)\n",
    "plt.title(\"RTP Convergence\")\n",
    "plt.show()"
   ]
  },
  {
   "cell_type": "code",
   "execution_count": 17,
   "id": "7278b499-7fe2-4d7d-9e2c-9918864b7cc4",
   "metadata": {},
   "outputs": [
    {
     "data": {
      "image/png": "[encoded data removed]",
      "text/plain": [
       "<Figure size 600x400 with 1 Axes>"
      ]
     },
     "metadata": {},
     "output_type": "display_data"
    }
   ],
   "source": [
    "key_multipliers = cashout\n",
    "percentiles = [percentileofscore(results['crash_point'], x) for x in key_multipliers]\n",
    "\n",
    "plt.figure(figsize=(6, 4))\n",
    "plt.bar(range(len(key_multipliers)), 100 - np.array(percentiles), color='skyblue', edgecolor='black')\n",
    "plt.xticks(range(len(key_multipliers)), [f'{x:.2f}x' for x in key_multipliers], rotation=45)\n",
    "plt.title('Win Probability by Multiplier')\n",
    "plt.ylabel('Win Probability (%)')\n",
    "plt.xlabel('Multiplier')\n",
    "plt.grid(axis='y', linestyle='--', alpha=0.7)\n",
    "plt.tight_layout()\n",
    "plt.show()"
   ]
  },
  {
   "cell_type": "markdown",
   "id": "91d3c471-e4cc-4062-96b0-f2e55b795f3d",
   "metadata": {},
   "source": [
    "## Multipliers Values\n",
    "\n",
    "for adding multipliers or changing multipliers value given geospace and linspace"
   ]
  },
  {
   "cell_type": "code",
   "execution_count": 18,
   "id": "976299a7-692e-455b-838d-7ec126d70d92",
   "metadata": {},
   "outputs": [],
   "source": [
    "# creating multiplier values\n",
    "multipliers = np.unique(np.concatenate([\n",
    "    np.linspace(1.5, 50, 15),      # High precision for common targets\n",
    "    np.geomspace(52, 100, 20),       # Moderate precision\n",
    "    np.geomspace(100, 200, 10),     # Lower precision for high multipliers\n",
    "    [500, 1000]     # Rare jackpots\n",
    "]))"
   ]
  },
  {
   "cell_type": "code",
   "execution_count": 19,
   "id": "f24895c6-bc43-4557-a295-47fbb8c3d6ca",
   "metadata": {},
   "outputs": [
    {
     "name": "stdout",
     "output_type": "stream",
     "text": [
      "[1.5, 4.96, 8.43, 11.89, 15.36, 18.82, 22.29, 25.75, 29.21, 32.68, 36.14, 39.61, 43.07, 46.54, 50.0, 52.0, 53.82, 55.71, 57.66, 59.67, 61.76, 63.93, 66.17, 68.48, 70.88, 73.36, 75.93, 78.59, 81.34, 84.19, 87.14, 90.19, 93.35, 96.62, 100.0, 108.01, 116.65, 125.99, 136.08, 146.97, 158.74, 171.45, 185.17, 200.0, 500.0, 1000.0]\n"
     ]
    }
   ],
   "source": [
    "out = [float(round(multipliers[m], 2)) for m in range(len(multipliers))]\n",
    "print(out)"
   ]
  },
  {
   "cell_type": "markdown",
   "id": "92ba3e61-232d-4599-a3f0-8cd392104aaf",
   "metadata": {},
   "source": [
    "## Probabilities"
   ]
  },
  {
   "cell_type": "code",
   "execution_count": 36,
   "id": "f7e4e403-87bb-4e96-b919-c4ecc1de87e0",
   "metadata": {},
   "outputs": [],
   "source": [
    "mul = out\n",
    "prob = []\n",
    "\n",
    "for m in range(len(mul)):\n",
    "    p = (1 - house_edge) / mul[m]\n",
    "    prob.append(round(p, 5))"
   ]
  },
  {
   "cell_type": "code",
   "execution_count": 37,
   "id": "a80af314-9bed-4222-bd4d-a3c632ee3707",
   "metadata": {},
   "outputs": [
    {
     "name": "stdout",
     "output_type": "stream",
     "text": [
      "[0.63333, 0.19153, 0.11269, 0.0799, 0.06185, 0.05048, 0.04262, 0.03689, 0.03252, 0.02907, 0.02629, 0.02398, 0.02206, 0.02041, 0.019, 0.01827, 0.01765, 0.01705, 0.01648, 0.01592, 0.01538, 0.01486, 0.01436, 0.01387, 0.0134, 0.01295, 0.01251, 0.01209, 0.01168, 0.01128, 0.0109, 0.01053, 0.01018, 0.00983, 0.0095, 0.0088, 0.00814, 0.00754, 0.00698, 0.00646, 0.00598, 0.00554, 0.00513, 0.00475, 0.0019, 0.00095]\n"
     ]
    }
   ],
   "source": [
    "print(prob)"
   ]
  },
  {
   "cell_type": "markdown",
   "id": "64ef8179-b227-49d3-986e-7a54c05a5d90",
   "metadata": {},
   "source": [
    "## Data \n",
    "\n",
    "`results` => will be stored in `results.csv`"
   ]
  },
  {
   "cell_type": "code",
   "execution_count": 38,
   "id": "76b402bb-42f4-42f2-98ac-c40d9013c42f",
   "metadata": {},
   "outputs": [],
   "source": [
    "results.to_csv('results.csv', index=False)"
   ]
  },
  {
   "cell_type": "code",
   "execution_count": 3,
   "id": "aa098f37-08f0-462e-85f8-c60ad60c4b8d",
   "metadata": {},
   "outputs": [
    {
     "name": "stdout",
     "output_type": "stream",
     "text": [
      "[NbConvertApp] Converting notebook Practical-Copy1.ipynb to script\n",
      "[NbConvertApp] Writing 3696 bytes to Practical-Copy1.py\n"
     ]
    }
   ],
   "source": [
    "!jupyter nbconvert --to script Practical-Copy1.ipynb"
   ]
  }
 ],
 "metadata": {
  "kernelspec": {
   "display_name": "Python 3 (ipykernel)",
   "language": "python",
   "name": "python3"
  },
  "language_info": {
   "codemirror_mode": {
    "name": "ipython",
    "version": 3
   },
   "file_extension": ".py",
   "mimetype": "text/x-python",
   "name": "python",
   "nbconvert_exporter": "python",
   "pygments_lexer": "ipython3",
   "version": "3.10.17"
  }
 },
 "nbformat": 4,
 "nbformat_minor": 5
}
